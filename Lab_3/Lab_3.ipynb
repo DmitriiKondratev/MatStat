{
 "cells": [
  {
   "cell_type": "markdown",
   "metadata": {},
   "source": [
    "# Лабораторная работа №3"
   ]
  },
  {
   "cell_type": "code",
   "execution_count": 1,
   "metadata": {},
   "outputs": [],
   "source": [
    "import numpy as np\n",
    "import matplotlib.pyplot as plt\n",
    "from scipy import stats\n",
    "from math import sqrt\n",
    "import sys"
   ]
  },
  {
   "cell_type": "markdown",
   "metadata": {},
   "source": [
    "## Постановка задачи\n",
    "Для 5 распределений:\n",
    "* Нормальное распределение $N(x,0,1)$;\n",
    "* Распределение Коши $C(x,0,1)$;\n",
    "* Распределение Лапласа $L(x,0,\\frac{1}{\\sqrt{2}})$;\n",
    "* Распределение Пуассона $P(k,10)$;\n",
    "* Равномерное распределение $U(x,-\\sqrt{3},\\sqrt{3})$\n",
    "\n",
    "Сгенерировать выборки размером 20 и 100 элементов. Построить для них боксплот Тьюки.\\\n",
    "Для каждого распределения определить долю выбросов экспериментально (сгенерировав выборку, соответствующую распределению 1000 раз, и вычислив среднюю долю выбросов) и сравнить с результатами, полученными теоретически."
   ]
  },
  {
   "cell_type": "markdown",
   "metadata": {},
   "source": [
    "## Теория\n",
    "### Определение\n",
    "Боксплот (англ. box plot) — график, использующийся в описательной статистике, компактно изображающий одномерное распределение вероятностей.\n",
    "### Описание\n",
    "Такой вид диаграммы в удобной форме показывает медиану, нижний и верхний квартили и выбросы. Несколько таких ящиков можно нарисовать бок о бок, чтобы визуально сравнивать одно распределение с другим; их можно располагать как горизонтально, так и вертикально. Расстояния между различными частями ящика позволяют определить степень разброса (дисперсии) и асимметрии данных и выявить выбросы.\n",
    "### Построение\n",
    "Границами ящика служат первый и третий квартили, линия в середине ящика — медиана. Концы усов — края статистически значимой выборки (без выбросов). Длину «усов» определяют разность первого квартиля и полутора межквартильных расстояний и сумма третьего квартиля и полутора межквартильных расстояний. Формула имеет вид:\n",
    "$$X_1=Q_1-{3\\over{2}}(Q_3-Q_1), X_2=Q_3+{3\\over{2}}(Q_3-Q_1)$$\n",
    "где $X_1$ — нижняя граница уса, $X_2$ — верхняя граница уса, $Q_1$ — первый квартиль, $Q_3$ — третий квартиль. Данные, выходящие за границы усов (выбросы), отображаются на графике в виде маленьких кружков.\n",
    "\n",
    "## Реализация"
   ]
  },
  {
   "cell_type": "code",
   "execution_count": 2,
   "metadata": {},
   "outputs": [],
   "source": [
    "# Normal distribution\n",
    "normal_distribution = {\n",
    "    'distrib' : np.random.standard_normal,\n",
    "    'pdf' : stats.norm.pdf,\n",
    "    'cdf' : stats.norm.cdf,\n",
    "    'ppf' : stats.norm.ppf,\n",
    "    'title' : \"Normal distribution $N(x,0,1)$\",\n",
    "    'name' : \"Normal distribution\",\n",
    "}\n",
    "\n",
    "# Cauchy distribution\n",
    "cauchy_distribution = {\n",
    "    'distrib' : np.random.standard_cauchy,\n",
    "    'pdf' : stats.cauchy.pdf,\n",
    "    'cdf' : stats.cauchy.cdf,\n",
    "    'ppf' : stats.cauchy.ppf,\n",
    "    'title' : \"Cauchy distribution $C(x,0,1)$\",\n",
    "    'name' : \"Cauchy distribution\",\n",
    "}\n",
    "\n",
    "# Laplace distribution\n",
    "laplace_param = [0, 1 / sqrt(2)] # mu, lambda\n",
    "laplace_distribution = {\n",
    "    'distrib' : lambda n: np.random.laplace(laplace_param[0], laplace_param[1], n),\n",
    "    'pdf' : lambda x: stats.laplace.pdf(x, laplace_param[0], laplace_param[1]),\n",
    "    'cdf' : lambda x: stats.laplace.cdf(x, laplace_param[0], laplace_param[1]),\n",
    "    'ppf' : lambda q: stats.laplace.ppf(q, laplace_param[0], laplace_param[1]),\n",
    "    'title' : \"Laplace distribution $L(x,0,1 / \\sqrt{2})$\",\n",
    "    'name' : \"Laplace distribution\",\n",
    "}\n",
    "\n",
    "# Poisson distribution\n",
    "poisson_param = 10 # mu\n",
    "poisson_distribution = {\n",
    "    'distrib' : lambda n: np.random.poisson(poisson_param, n),\n",
    "    'pdf' : lambda x: (np.power(x, poisson_param) / np.math.factorial(poisson_param)) * np.exp(-x),\n",
    "    'pmf' : lambda k: stats.poisson.pmf(k, poisson_param),\n",
    "    'cdf' : lambda k: stats.poisson.cdf(k, poisson_param),\n",
    "    'ppf' : lambda q: stats.poisson.ppf(q, poisson_param),\n",
    "    'title' : \"Poisson distribution $P(k,10)$\",\n",
    "    'name' : \"Poisson distribution\",\n",
    "}\n",
    "\n",
    "# Uniform distribution\n",
    "segment = [-sqrt(3), sqrt(3)]\n",
    "uniform_distribution = {\n",
    "    'distrib' : lambda n: np.random.uniform(segment[0], segment[1], n),\n",
    "    'pdf' : lambda x: stats.uniform.pdf(x, segment[0], segment[1] - segment[0]),\n",
    "    'cdf' : lambda x: stats.uniform.cdf(x, segment[0], segment[1] - segment[0]),\n",
    "    'ppf' : lambda q: stats.uniform.ppf(q, segment[0], segment[1] - segment[0]),\n",
    "    'title' : \"Uniform distribution $U(x,-\\sqrt{3},\\sqrt{3})$\",\n",
    "    'name' : \"Uniform distribution\",\n",
    "}"
   ]
  },
  {
   "cell_type": "code",
   "execution_count": 12,
   "metadata": {},
   "outputs": [],
   "source": [
    "def TheoreticalProbabilityOfOutliers(distribution, rounded=4):\n",
    "    Q_1 = distribution['ppf'](0.25)\n",
    "    Q_3 = distribution['ppf'](0.75)\n",
    "    bottom = Q_1 - 1.5 * (Q_3 - Q_1)\n",
    "    top = Q_3 + 1.5 * (Q_3 - Q_1)\n",
    "    if distribution['name'] == \"Poisson distribution\":\n",
    "        P = (distribution['cdf'](bottom) - distribution['pmf'](bottom)) + (1 - distribution['cdf'](top)) \n",
    "    else:\n",
    "        P = distribution['cdf'](bottom) + (1 - distribution['cdf'](top)) \n",
    "    return np.round([Q_1, Q_3, bottom, top, P], rounded)\n",
    "\n",
    "def NumOutliers(x):\n",
    "    x.sort()\n",
    "    num_outliers = 0\n",
    "    Q_1 = np.quantile(x, 0.25)\n",
    "    Q_3 = np.quantile(x, 0.75)\n",
    "    bottom = Q_1 - 1.5 * (Q_3 - Q_1)\n",
    "    top = Q_3 + 1.5 * (Q_3 - Q_1)\n",
    "    for elem in x:\n",
    "        if elem < bottom or elem > top:\n",
    "            num_outliers += 1\n",
    "    return num_outliers / x.size\n",
    "\n",
    "def ResearchDistibution(distribution, n, iter_num, rounded=4):\n",
    "    np.random.seed(42)\n",
    "    \n",
    "    data = []\n",
    "    for i in range(len(n)):\n",
    "        x = distribution['distrib'](n[i])\n",
    "        data.append(x)\n",
    "        \n",
    "    res = []\n",
    "    for i in range(len(n)):\n",
    "        z = []\n",
    "        for _ in range(iter_num):\n",
    "            x = distribution['distrib'](n[i])\n",
    "            z.append(NumOutliers(x))\n",
    "        res.append(round(np.mean(z), rounded))\n",
    "    \n",
    "    plt.figure(distribution['name'])\n",
    "    # plt.title(distribution['title'])\n",
    "    plt.xlabel(\"x\")\n",
    "    plt.ylabel(\"n\")\n",
    "    plt.boxplot(data, labels=n, vert=False)\n",
    "    plt.savefig(\"pictures/\"+distribution['name'])\n",
    "    plt.show()\n",
    "    \n",
    "    return res"
   ]
  },
  {
   "cell_type": "code",
   "execution_count": 13,
   "metadata": {},
   "outputs": [],
   "source": [
    "n = [20, 100]\n",
    "iter_num = 1000\n",
    "\n",
    "distributions = [normal_distribution,\n",
    "                 cauchy_distribution,\n",
    "                 laplace_distribution,\n",
    "                 poisson_distribution,\n",
    "                 uniform_distribution]"
   ]
  },
  {
   "cell_type": "code",
   "execution_count": 14,
   "metadata": {},
   "outputs": [
    {
     "data": {
      "image/png": "[encoded data removed]",
      "text/plain": [
       "<Figure size 432x288 with 1 Axes>"
      ]
     },
     "metadata": {
      "needs_background": "light"
     },
     "output_type": "display_data"
    },
    {
     "name": "stdout",
     "output_type": "stream",
     "text": [
      "percentage_outliers: [0.0239, 0.0101]\n"
     ]
    },
    {
     "data": {
      "image/png": "[encoded data removed]",
      "text/plain": [
       "<Figure size 432x288 with 1 Axes>"
      ]
     },
     "metadata": {
      "needs_background": "light"
     },
     "output_type": "display_data"
    },
    {
     "name": "stdout",
     "output_type": "stream",
     "text": [
      "percentage_outliers: [0.1516, 0.1544]\n"
     ]
    },
    {
     "data": {
      "image/png": "[encoded data removed]",
      "text/plain": [
       "<Figure size 432x288 with 1 Axes>"
      ]
     },
     "metadata": {
      "needs_background": "light"
     },
     "output_type": "display_data"
    },
    {
     "name": "stdout",
     "output_type": "stream",
     "text": [
      "percentage_outliers: [0.0739, 0.0632]\n"
     ]
    },
    {
     "data": {
      "image/png": "[encoded data removed]",
      "text/plain": [
       "<Figure size 432x288 with 1 Axes>"
      ]
     },
     "metadata": {
      "needs_background": "light"
     },
     "output_type": "display_data"
    },
    {
     "name": "stdout",
     "output_type": "stream",
     "text": [
      "percentage_outliers: [0.0242, 0.0105]\n"
     ]
    },
    {
     "data": {
      "image/png": "[encoded data removed]",
      "text/plain": [
       "<Figure size 432x288 with 1 Axes>"
      ]
     },
     "metadata": {
      "needs_background": "light"
     },
     "output_type": "display_data"
    },
    {
     "name": "stdout",
     "output_type": "stream",
     "text": [
      "percentage_outliers: [0.002, 0.0]\n"
     ]
    }
   ],
   "source": [
    "file = open('outliers/percentage_outliers.txt', 'w')\n",
    "for distrib in distributions:\n",
    "    tmp = ResearchDistibution(distrib, n, iter_num)\n",
    "    print(\"percentage_outliers:\", tmp)\n",
    "    file.write(\"%s:\\n%s\\n\" %(distrib['name'], str(tmp)))\n",
    "file.close()"
   ]
  },
  {
   "cell_type": "code",
   "execution_count": 19,
   "metadata": {},
   "outputs": [
    {
     "name": "stdout",
     "output_type": "stream",
     "text": [
      "Normal distribution:\n",
      "theoretical_outliers: [-0.6745  0.6745 -2.698   2.698   0.007 ]\n",
      "Cauchy distribution:\n",
      "theoretical_outliers: [-1.     1.    -4.     4.     0.156]\n",
      "Laplace distribution:\n",
      "theoretical_outliers: [-0.4901  0.4901 -1.9605  1.9605  0.0625]\n",
      "Poisson distribution:\n",
      "theoretical_outliers: [8.0e+00 1.2e+01 2.0e+00 1.8e+01 7.7e-03]\n",
      "Uniform distribution:\n",
      "theoretical_outliers: [-0.866   0.866  -3.4641  3.4641  0.    ]\n"
     ]
    }
   ],
   "source": [
    "file = open('outliers/theoretical_outliers.txt', 'w')\n",
    "for distrib in distributions:\n",
    "    tmp = TheoreticalProbabilityOfOutliers(distrib)\n",
    "    print(distrib['name'] + \":\")\n",
    "    print(\"theoretical_outliers:\", tmp)\n",
    "    file.write(\"%s:\\n%s\\n\" %(distrib['name'], str(tmp)))\n",
    "file.close()"
   ]
  },
  {
   "cell_type": "code",
   "execution_count": null,
   "metadata": {},
   "outputs": [],
   "source": []
  }
 ],
 "metadata": {
  "kernelspec": {
   "display_name": "Python 3",
   "language": "python",
   "name": "python3"
  },
  "language_info": {
   "codemirror_mode": {
    "name": "ipython",
    "version": 3
   },
   "file_extension": ".py",
   "mimetype": "text/x-python",
   "name": "python",
   "nbconvert_exporter": "python",
   "pygments_lexer": "ipython3",
   "version": "3.7.6"
  }
 },
 "nbformat": 4,
 "nbformat_minor": 4
}
