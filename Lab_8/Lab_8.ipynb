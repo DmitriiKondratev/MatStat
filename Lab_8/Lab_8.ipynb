{
 "cells": [
  {
   "cell_type": "markdown",
   "metadata": {},
   "source": [
    "# Лабораторная работа №8"
   ]
  },
  {
   "cell_type": "code",
   "execution_count": 6,
   "metadata": {},
   "outputs": [],
   "source": [
    "import numpy as np\n",
    "from scipy import stats\n",
    "import sys\n",
    "#sns.set(color_codes=True)"
   ]
  },
  {
   "cell_type": "markdown",
   "metadata": {},
   "source": [
    "## Постановка задачи\n",
    "Для двух выборок размерами $20$ и $100$ элементов, сгенерированных согласно нормальному закону $N(x,0,1)$, для параметров положения и масштаба построить асимптотически нормальные интервальные оценки на основе точечных оценок метода максимального правдоподобия и классические интервальные оценки на основе статистик χ2 и Стьюдента. В качестве параметра надёжности взять γ = 0.95.\n",
    " \n",
    "## Реализация"
   ]
  },
  {
   "cell_type": "code",
   "execution_count": 7,
   "metadata": {},
   "outputs": [],
   "source": [
    "def m_interval(sample):\n",
    "    m = np.mean(sample)\n",
    "    s = np.std(sample)\n",
    "    n = len(sample)\n",
    "    interval = s * stats.t.ppf((1 + gamma) / 2, n - 1) / (n - 1) ** 0.5\n",
    "    return np.around(m - interval, decimals=2), np.around(m + interval, decimals=2)\n",
    "\n",
    "\n",
    "def var_interval(sample):\n",
    "    s = np.std(sample)\n",
    "    n = len(sample)\n",
    "    low = s * (n / stats.chi2.ppf((1 + gamma) / 2, n - 1)) ** 0.5\n",
    "    high = s * (n / stats.chi2.ppf((1 - gamma) / 2, n - 1)) ** 0.5\n",
    "    return np.around(low, decimals=2), np.around(high, decimals=2)\n",
    "\n",
    "\n",
    "def m_asimpt(sample):\n",
    "    m = np.mean(sample)\n",
    "    s = np.std(sample)\n",
    "    n = len(sample)\n",
    "    u = stats.norm.ppf((1 + gamma) / 2)\n",
    "    interval = s * u / (n ** 0.5)\n",
    "    return np.around(m - interval, decimals=2), np.around(m + interval, decimals=2)\n",
    "\n",
    "\n",
    "def var_asimpt(sample):\n",
    "    s = np.std(sample)\n",
    "    n = len(sample)\n",
    "    m_4 = stats.moment(sample, 4)\n",
    "    e = m_4 / s**4 - 3\n",
    "    u = stats.norm.ppf((1 + gamma) / 2)\n",
    "    U = u * (((e + 2) / n) ** 0.5)\n",
    "    low = s * (1 + 0.5 * U) ** (-0.5)\n",
    "    high = s * (1 - 0.5 * U) ** (-0.5)\n",
    "    return np.around(low, decimals=2), np.around(high, decimals=2)"
   ]
  },
  {
   "cell_type": "code",
   "execution_count": 11,
   "metadata": {},
   "outputs": [
    {
     "name": "stdout",
     "output_type": "stream",
     "text": [
      "n = 20\n",
      "mean (-0.62, 0.28)\n",
      "var (0.73, 1.4)\n",
      "\n",
      "---------------------------------------------\n",
      "\n",
      "size = 20\n",
      "assimp_mean (-0.58, 0.24)\n",
      "assimp_var (0.83, 1.09)\n",
      "\n",
      "---------------------------------------------\n",
      "\n",
      "n = 100\n",
      "mean (-0.24, 0.12)\n",
      "var (0.81, 1.07)\n",
      "\n",
      "---------------------------------------------\n",
      "\n",
      "size = 100\n",
      "assimp_mean (-0.24, 0.12)\n",
      "assimp_var (0.86, 0.99)\n",
      "\n",
      "---------------------------------------------\n",
      "\n"
     ]
    }
   ],
   "source": [
    "#sys.stdout = open(\"out.txt\", \"w\")\n",
    "\n",
    "np.random.seed(42)\n",
    "samples = [20, 100]\n",
    "gamma = 0.95\n",
    "\n",
    "for num in samples:\n",
    "    dist = np.random.standard_normal(num)\n",
    "\n",
    "    print('n = ' + str(num))\n",
    "    print('mean', m_interval(dist))\n",
    "    print('var', var_interval(dist))\n",
    "    print()\n",
    "    print(\"---------------------------------------------\")\n",
    "    print()\n",
    "    print('size = ' + str(num))\n",
    "    print('assimp_mean', m_asimpt(dist))\n",
    "    print('assimp_var', var_asimpt(dist))\n",
    "    print()\n",
    "    print(\"---------------------------------------------\")\n",
    "    print()\n",
    "\n",
    "#sys.stdout.close()"
   ]
  },
  {
   "cell_type": "code",
   "execution_count": 12,
   "metadata": {},
   "outputs": [],
   "source": []
  },
  {
   "cell_type": "code",
   "execution_count": 13,
   "metadata": {},
   "outputs": [],
   "source": []
  },
  {
   "cell_type": "code",
   "execution_count": null,
   "metadata": {},
   "outputs": [],
   "source": []
  },
  {
   "cell_type": "code",
   "execution_count": null,
   "metadata": {},
   "outputs": [],
   "source": []
  },
  {
   "cell_type": "code",
   "execution_count": null,
   "metadata": {},
   "outputs": [],
   "source": []
  }
 ],
 "metadata": {
  "kernelspec": {
   "display_name": "Python 3",
   "language": "python",
   "name": "python3"
  },
  "language_info": {
   "codemirror_mode": {
    "name": "ipython",
    "version": 3
   },
   "file_extension": ".py",
   "mimetype": "text/x-python",
   "name": "python",
   "nbconvert_exporter": "python",
   "pygments_lexer": "ipython3",
   "version": "3.7.6"
  }
 },
 "nbformat": 4,
 "nbformat_minor": 4
}
