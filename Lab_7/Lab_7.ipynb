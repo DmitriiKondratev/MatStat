{
 "cells": [
  {
   "cell_type": "markdown",
   "metadata": {},
   "source": [
    "# Лабораторная работа №7"
   ]
  },
  {
   "cell_type": "code",
   "execution_count": 21,
   "metadata": {},
   "outputs": [],
   "source": [
    "import numpy as np\n",
    "from tabulate import tabulate\n",
    "from scipy import stats\n",
    "from math import log10\n",
    "import sys"
   ]
  },
  {
   "cell_type": "markdown",
   "metadata": {},
   "source": [
    "## Постановка задачи\n",
    "Сгенерировать выборку объёмом 100 элементов для нормального распределения $N(x,0,1)$. По сгенерированной выборке оценить параметры $\\mu$ и $\\sigma$ нормального закона методом максимального правдоподобия. В качестве основной гипотезы $H_0$ будем считать, что сгенерированное распределение имеет вид $N(x,\\hat{\\mu},\\hat{\\sigma})$. Проверить основную гипотезу, используя критерий согласия χ2. В качестве уровня значимости взять $\\alpha = 0.05$. Привести таблицу вычислений χ2."
   ]
  },
  {
   "cell_type": "code",
   "execution_count": 108,
   "metadata": {},
   "outputs": [],
   "source": [
    "alpha = 0.05\n",
    "p = 1 - alpha\n",
    "size = 20\n",
    "k = 5\n",
    "l, r = -2, 2"
   ]
  },
  {
   "cell_type": "markdown",
   "metadata": {},
   "source": [
    "## Реализация"
   ]
  },
  {
   "cell_type": "code",
   "execution_count": 113,
   "metadata": {},
   "outputs": [],
   "source": [
    "np.random.seed(7)\n",
    "sys.stdout = open(\"hypothesis.txt\", \"w\")\n",
    "\n",
    "dist = np.random.uniform(-2, 2, size)\n",
    "mu = np.mean(dist)\n",
    "sigma = np.std(dist)\n",
    "\n",
    "print(\"Maximum likelihood estimation:\")\n",
    "print('mu =', np.around(mu, decimals=2), ' ', 'sigma =', np.around(sigma, decimals=2))\n",
    "print()\n",
    "\n",
    "print(\"Consent criterion X^2:\")\n",
    "delta = np.linspace(-1.01, 1.56, num=k - 1)\n",
    "value = stats.chi2.ppf(p, k - 1)\n",
    "array = np.array([stats.norm.cdf(delta[0])])\n",
    "q = np.array([len(dist[dist <= delta[0]])])\n",
    "\n",
    "for i in range(0, len(delta) - 1):\n",
    "    new_ar = stats.norm.cdf(delta[i + 1]) - stats.norm.cdf(delta[i])\n",
    "    array = np.append(array, new_ar)\n",
    "    q = np.append(q, len(dist[(dist <= delta[i + 1]) & (dist >= delta[i])]))\n",
    "\n",
    "\n",
    "array = np.append(array, 1 - stats.norm.cdf(delta[-1]))\n",
    "q = np.append(q, len(dist[dist >= delta[-1]]))\n",
    "result = np.divide(np.multiply((q - size * array), (q - size * array)), array * size)\n",
    "\n",
    "table_headers = [\"i\", '$Delta_i$', \"$n_i$\", \"$p_i$\", \"$np_i$\", \"$n_i-np_i$\", \"$frac{(n_i-np_i)^2}{np_i}$\"]\n",
    "rows = []\n",
    "\n",
    "for i in range(0, len(q)):\n",
    "    if i == 0:\n",
    "        boarders = ['-infity', np.around(delta[0], decimals=2)]\n",
    "    elif i == len(q) - 1:\n",
    "        boarders = [np.around(delta[-1], decimals=2), 'infity']\n",
    "    else:\n",
    "        boarders = [np.around(delta[i - 1], decimals=2), np.around(delta[i], decimals=2)]\n",
    "\n",
    "    rows.append([i + 1, boarders, q[i], np.around(array[i], decimals=4), np.around(array[i] * size, decimals=2),\n",
    "                 np.around(q[i] - size * array[i], decimals=2), np.around(result[i], decimals=2)])\n",
    "\n",
    "\n",
    "rows.append([len(q), \"-\", np.sum(q), np.around(np.sum(array), decimals=4),\n",
    "             np.around(np.sum(array * size), decimals=2),\n",
    "             -np.around(np.sum(q - size * array), decimals=2),\n",
    "             np.around(np.sum(result), decimals=2)])\n",
    "\n",
    "\n",
    "print(tabulate(rows, table_headers))"
   ]
  },
  {
   "cell_type": "code",
   "execution_count": null,
   "metadata": {},
   "outputs": [],
   "source": []
  },
  {
   "cell_type": "code",
   "execution_count": null,
   "metadata": {},
   "outputs": [],
   "source": []
  },
  {
   "cell_type": "code",
   "execution_count": null,
   "metadata": {},
   "outputs": [],
   "source": []
  }
 ],
 "metadata": {
  "kernelspec": {
   "display_name": "Python 3",
   "language": "python",
   "name": "python3"
  },
  "language_info": {
   "codemirror_mode": {
    "name": "ipython",
    "version": 3
   },
   "file_extension": ".py",
   "mimetype": "text/x-python",
   "name": "python",
   "nbconvert_exporter": "python",
   "pygments_lexer": "ipython3",
   "version": "3.7.6"
  }
 },
 "nbformat": 4,
 "nbformat_minor": 4
}
